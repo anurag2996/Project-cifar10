{
  "nbformat": 4,
  "nbformat_minor": 0,
  "metadata": {
    "colab": {
      "name": "cifar10_keras.ipynb",
      "version": "0.3.2",
      "provenance": [],
      "collapsed_sections": []
    },
    "kernelspec": {
      "name": "python3",
      "display_name": "Python 3"
    },
    "accelerator": "GPU"
  },
  "cells": [
    {
      "metadata": {
        "id": "747oZ07ze04s",
        "colab_type": "code",
        "colab": {
          "base_uri": "https://localhost:8080/",
          "height": 35
        },
        "outputId": "b177822c-d971-4672-8f81-7b0cae00a0ab"
      },
      "cell_type": "code",
      "source": [
        "from keras.datasets import cifar10\n",
        "from keras.models import Sequential\n",
        "from keras.layers import Activation,Dense, Dropout, Flatten, Conv2D, MaxPooling2D\n",
        "import keras\n",
        "from keras.preprocessing.image import ImageDataGenerator\n",
        "from keras.layers.normalization import BatchNormalization\n",
        "import numpy as np"
      ],
      "execution_count": 1,
      "outputs": [
        {
          "output_type": "stream",
          "text": [
            "Using TensorFlow backend.\n"
          ],
          "name": "stderr"
        }
      ]
    },
    {
      "metadata": {
        "id": "MLVUUj-8fHTd",
        "colab_type": "code",
        "colab": {}
      },
      "cell_type": "code",
      "source": [
        "batch_size = 10\n",
        "num_classes = 10\n",
        "epochs = 20\n",
        "img_width,img_height = 32,32"
      ],
      "execution_count": 0,
      "outputs": []
    },
    {
      "metadata": {
        "id": "y2kjyXLHe44l",
        "colab_type": "code",
        "colab": {
          "base_uri": "https://localhost:8080/",
          "height": 35
        },
        "outputId": "ea7fe83e-7a66-4520-a24a-2cb108e76fbf"
      },
      "cell_type": "code",
      "source": [
        "(x_train, y_train), (x_test, y_test) = cifar10.load_data()\n",
        "\n",
        "y_train = keras.utils.to_categorical(y_train, num_classes)\n",
        "y_test = keras.utils.to_categorical(y_test, num_classes)\n",
        "\n",
        "print('Shape of X is {} and Y is {}'.format(x_train.shape, y_train.shape))"
      ],
      "execution_count": 3,
      "outputs": [
        {
          "output_type": "stream",
          "text": [
            "Shape of X is (50000, 32, 32, 3) and Y is (50000, 10)\n"
          ],
          "name": "stdout"
        }
      ]
    },
    {
      "metadata": {
        "id": "2MgwOpzJfVsw",
        "colab_type": "code",
        "colab": {}
      },
      "cell_type": "code",
      "source": [
        "x_train = x_train.astype('float32')\n",
        "x_test = x_test.astype('float32')\n",
        "x_train /= 255\n",
        "x_test /= 255"
      ],
      "execution_count": 0,
      "outputs": []
    },
    {
      "metadata": {
        "id": "6mU1WEJgXyTh",
        "colab_type": "code",
        "colab": {}
      },
      "cell_type": "code",
      "source": [
        "from sklearn.model_selection import train_test_split as tts\n",
        "x_train1,x_val,y_train1,y_val = tts(x_train,y_train,test_size=0.2,random_state=1)"
      ],
      "execution_count": 0,
      "outputs": []
    },
    {
      "metadata": {
        "id": "UDnbehQGau4-",
        "colab_type": "code",
        "colab": {
          "base_uri": "https://localhost:8080/",
          "height": 86
        },
        "outputId": "236220f0-f9b3-43cd-e605-4fe25c05eb06"
      },
      "cell_type": "code",
      "source": [
        "print(x_train1.shape)\n",
        "print(y_train1.shape)\n",
        "print(x_val.shape)\n",
        "print(x_val.shape)"
      ],
      "execution_count": 6,
      "outputs": [
        {
          "output_type": "stream",
          "text": [
            "(40000, 32, 32, 3)\n",
            "(40000, 10)\n",
            "(10000, 32, 32, 3)\n",
            "(10000, 32, 32, 3)\n"
          ],
          "name": "stdout"
        }
      ]
    },
    {
      "metadata": {
        "id": "bxwxBigue9xw",
        "colab_type": "code",
        "colab": {}
      },
      "cell_type": "code",
      "source": [
        "model = Sequential()\n",
        "\n",
        "model.add(Conv2D(128, padding='same', kernel_size=(5, 5), activation='relu', input_shape=(32, 32, 3)))\n",
        "model.add(BatchNormalization())\n",
        "model.add(Conv2D(128, padding='same', kernel_size=(3, 3), activation='relu'))\n",
        "model.add(BatchNormalization())\n",
        "model.add(MaxPooling2D(pool_size=(2, 2)))\n",
        "model.add(Dropout(0.2))\n",
        "\n",
        "model.add(Conv2D(256, padding='same', kernel_size=(3, 3), activation='relu'))\n",
        "model.add(BatchNormalization())\n",
        "model.add(Conv2D(256, padding='same', kernel_size=(3, 3), activation='relu'))\n",
        "model.add(BatchNormalization())\n",
        "model.add(MaxPooling2D(pool_size=(2, 2)))\n",
        "model.add(Dropout(0.2))\n",
        "\n",
        "model.add(Conv2D(256, padding='same', kernel_size=(5, 5), activation='relu'))\n",
        "model.add(BatchNormalization())\n",
        "model.add(Conv2D(256, padding='same', kernel_size=(3, 3), activation='relu'))\n",
        "model.add(BatchNormalization())\n",
        "model.add(MaxPooling2D(pool_size=(2, 2)))\n",
        "model.add(Dropout(0.2))\n",
        "\n",
        "\n",
        "\n",
        "model.add(Flatten())\n",
        "\n",
        "\n",
        "model.add(Dense(256, activation = \"relu\"))\n",
        "model.add(Dropout(0.3))\n",
        "model.add(Dense(10, activation = \"softmax\"))"
      ],
      "execution_count": 0,
      "outputs": []
    },
    {
      "metadata": {
        "id": "MKRlNdcmaIlF",
        "colab_type": "code",
        "colab": {
          "base_uri": "https://localhost:8080/",
          "height": 898
        },
        "outputId": "f7fae100-8fb8-4fef-baf6-8505ca06043d"
      },
      "cell_type": "code",
      "source": [
        "model.summary()"
      ],
      "execution_count": 8,
      "outputs": [
        {
          "output_type": "stream",
          "text": [
            "_________________________________________________________________\n",
            "Layer (type)                 Output Shape              Param #   \n",
            "=================================================================\n",
            "conv2d_1 (Conv2D)            (None, 32, 32, 128)       9728      \n",
            "_________________________________________________________________\n",
            "batch_normalization_1 (Batch (None, 32, 32, 128)       512       \n",
            "_________________________________________________________________\n",
            "conv2d_2 (Conv2D)            (None, 32, 32, 128)       147584    \n",
            "_________________________________________________________________\n",
            "batch_normalization_2 (Batch (None, 32, 32, 128)       512       \n",
            "_________________________________________________________________\n",
            "max_pooling2d_1 (MaxPooling2 (None, 16, 16, 128)       0         \n",
            "_________________________________________________________________\n",
            "dropout_1 (Dropout)          (None, 16, 16, 128)       0         \n",
            "_________________________________________________________________\n",
            "conv2d_3 (Conv2D)            (None, 16, 16, 256)       295168    \n",
            "_________________________________________________________________\n",
            "batch_normalization_3 (Batch (None, 16, 16, 256)       1024      \n",
            "_________________________________________________________________\n",
            "conv2d_4 (Conv2D)            (None, 16, 16, 256)       590080    \n",
            "_________________________________________________________________\n",
            "batch_normalization_4 (Batch (None, 16, 16, 256)       1024      \n",
            "_________________________________________________________________\n",
            "max_pooling2d_2 (MaxPooling2 (None, 8, 8, 256)         0         \n",
            "_________________________________________________________________\n",
            "dropout_2 (Dropout)          (None, 8, 8, 256)         0         \n",
            "_________________________________________________________________\n",
            "conv2d_5 (Conv2D)            (None, 8, 8, 256)         1638656   \n",
            "_________________________________________________________________\n",
            "batch_normalization_5 (Batch (None, 8, 8, 256)         1024      \n",
            "_________________________________________________________________\n",
            "conv2d_6 (Conv2D)            (None, 8, 8, 256)         590080    \n",
            "_________________________________________________________________\n",
            "batch_normalization_6 (Batch (None, 8, 8, 256)         1024      \n",
            "_________________________________________________________________\n",
            "max_pooling2d_3 (MaxPooling2 (None, 4, 4, 256)         0         \n",
            "_________________________________________________________________\n",
            "dropout_3 (Dropout)          (None, 4, 4, 256)         0         \n",
            "_________________________________________________________________\n",
            "flatten_1 (Flatten)          (None, 4096)              0         \n",
            "_________________________________________________________________\n",
            "dense_1 (Dense)              (None, 256)               1048832   \n",
            "_________________________________________________________________\n",
            "dropout_4 (Dropout)          (None, 256)               0         \n",
            "_________________________________________________________________\n",
            "dense_2 (Dense)              (None, 10)                2570      \n",
            "=================================================================\n",
            "Total params: 4,327,818\n",
            "Trainable params: 4,325,258\n",
            "Non-trainable params: 2,560\n",
            "_________________________________________________________________\n"
          ],
          "name": "stdout"
        }
      ]
    },
    {
      "metadata": {
        "id": "XyMVnCI4PD_T",
        "colab_type": "code",
        "colab": {}
      },
      "cell_type": "code",
      "source": [
        "from keras import optimizers\n",
        "rmsprop_new = optimizers.RMSprop(lr=0.00009, rho=0.9, epsilon=None, decay=0.0)"
      ],
      "execution_count": 0,
      "outputs": []
    },
    {
      "metadata": {
        "id": "JIf_cAAcfQtA",
        "colab_type": "code",
        "colab": {}
      },
      "cell_type": "code",
      "source": [
        "model.compile(loss='categorical_crossentropy', optimizer=rmsprop_new, metrics=['accuracy'])"
      ],
      "execution_count": 0,
      "outputs": []
    },
    {
      "metadata": {
        "id": "EWo1i2NEfX4g",
        "colab_type": "code",
        "colab": {
          "base_uri": "https://localhost:8080/",
          "height": 1399
        },
        "outputId": "c8090590-d691-48b1-a628-94d59c11eed6"
      },
      "cell_type": "code",
      "source": [
        "datagen = ImageDataGenerator(\n",
        "        featurewise_center=False,  # set input mean to 0 over the dataset\n",
        "        samplewise_center=False,  # set each sample mean to 0\n",
        "        featurewise_std_normalization=False,  # divide inputs by std of the dataset\n",
        "        samplewise_std_normalization=False,  # divide each input by its std\n",
        "        zca_whitening=False,  # apply ZCA whitening\n",
        "        rotation_range=0,  # randomly rotate images in the range (degrees, 0 to 180)\n",
        "        zoom_range = 0.1, # Randomly zoom image \n",
        "        width_shift_range=0.1,  # randomly shift images horizontally (fraction of total width)\n",
        "        height_shift_range=0.1,  # randomly shift images vertically (fraction of total height)\n",
        "        horizontal_flip=False,  # randomly flip images\n",
        "        vertical_flip=False)  # randomly flip images\n",
        "\n",
        "datagen.fit(x_train)\n",
        "\n",
        "train_gen = datagen.flow(x_train1, y_train1, \n",
        "                        batch_size=100)\n",
        "\n",
        "validation_gen = (x_val, y_val) \n",
        "                        \n",
        "\n",
        "trained_model = model.fit_generator(train_gen, steps_per_epoch = 400, epochs = 40, validation_data  = validation_gen)\n"
      ],
      "execution_count": 11,
      "outputs": [
        {
          "output_type": "stream",
          "text": [
            "Epoch 1/40\n",
            "400/400 [==============================] - 67s 167ms/step - loss: 1.7804 - acc: 0.3686 - val_loss: 1.5661 - val_acc: 0.4541\n",
            "Epoch 2/40\n",
            "400/400 [==============================] - 63s 158ms/step - loss: 1.4275 - acc: 0.4904 - val_loss: 1.3330 - val_acc: 0.5367\n",
            "Epoch 3/40\n",
            "400/400 [==============================] - 63s 158ms/step - loss: 1.2490 - acc: 0.5559 - val_loss: 1.1258 - val_acc: 0.6115\n",
            "Epoch 4/40\n",
            "400/400 [==============================] - 63s 158ms/step - loss: 1.1218 - acc: 0.6052 - val_loss: 1.2100 - val_acc: 0.6128\n",
            "Epoch 5/40\n",
            "400/400 [==============================] - 63s 158ms/step - loss: 1.0082 - acc: 0.6442 - val_loss: 1.1188 - val_acc: 0.6420\n",
            "Epoch 6/40\n",
            "400/400 [==============================] - 63s 158ms/step - loss: 0.9315 - acc: 0.6731 - val_loss: 1.0575 - val_acc: 0.6713\n",
            "Epoch 7/40\n",
            "400/400 [==============================] - 63s 159ms/step - loss: 0.8599 - acc: 0.6956 - val_loss: 0.9534 - val_acc: 0.6880\n",
            "Epoch 8/40\n",
            "400/400 [==============================] - 63s 158ms/step - loss: 0.8045 - acc: 0.7195 - val_loss: 1.0077 - val_acc: 0.6897\n",
            "Epoch 9/40\n",
            "400/400 [==============================] - 63s 158ms/step - loss: 0.7542 - acc: 0.7321 - val_loss: 0.8579 - val_acc: 0.7264\n",
            "Epoch 10/40\n",
            "400/400 [==============================] - 63s 158ms/step - loss: 0.7062 - acc: 0.7513 - val_loss: 1.1688 - val_acc: 0.6860\n",
            "Epoch 11/40\n",
            "400/400 [==============================] - 63s 158ms/step - loss: 0.6712 - acc: 0.7669 - val_loss: 0.8838 - val_acc: 0.7418\n",
            "Epoch 12/40\n",
            "400/400 [==============================] - 63s 158ms/step - loss: 0.6360 - acc: 0.7781 - val_loss: 0.7216 - val_acc: 0.7692\n",
            "Epoch 13/40\n",
            "400/400 [==============================] - 63s 158ms/step - loss: 0.5982 - acc: 0.7922 - val_loss: 0.7602 - val_acc: 0.7643\n",
            "Epoch 14/40\n",
            "400/400 [==============================] - 63s 158ms/step - loss: 0.5579 - acc: 0.8039 - val_loss: 0.6633 - val_acc: 0.7796\n",
            "Epoch 15/40\n",
            "400/400 [==============================] - 63s 158ms/step - loss: 0.5334 - acc: 0.8171 - val_loss: 0.7721 - val_acc: 0.7673\n",
            "Epoch 16/40\n",
            "400/400 [==============================] - 63s 158ms/step - loss: 0.5057 - acc: 0.8240 - val_loss: 0.7326 - val_acc: 0.7733\n",
            "Epoch 17/40\n",
            "400/400 [==============================] - 63s 158ms/step - loss: 0.4805 - acc: 0.8323 - val_loss: 0.6748 - val_acc: 0.7927\n",
            "Epoch 18/40\n",
            "400/400 [==============================] - 63s 158ms/step - loss: 0.4625 - acc: 0.8379 - val_loss: 0.8101 - val_acc: 0.7755\n",
            "Epoch 19/40\n",
            "400/400 [==============================] - 63s 158ms/step - loss: 0.4372 - acc: 0.8470 - val_loss: 0.7355 - val_acc: 0.7871\n",
            "Epoch 20/40\n",
            "400/400 [==============================] - 63s 158ms/step - loss: 0.4186 - acc: 0.8534 - val_loss: 0.8235 - val_acc: 0.7880\n",
            "Epoch 21/40\n",
            "400/400 [==============================] - 63s 158ms/step - loss: 0.3952 - acc: 0.8621 - val_loss: 0.6499 - val_acc: 0.8038\n",
            "Epoch 22/40\n",
            "400/400 [==============================] - 63s 158ms/step - loss: 0.3804 - acc: 0.8689 - val_loss: 0.7260 - val_acc: 0.7925\n",
            "Epoch 23/40\n",
            "400/400 [==============================] - 63s 158ms/step - loss: 0.3635 - acc: 0.8752 - val_loss: 0.6249 - val_acc: 0.8206\n",
            "Epoch 24/40\n",
            "400/400 [==============================] - 63s 158ms/step - loss: 0.3411 - acc: 0.8812 - val_loss: 0.6885 - val_acc: 0.8104\n",
            "Epoch 25/40\n",
            "400/400 [==============================] - 63s 158ms/step - loss: 0.3193 - acc: 0.8883 - val_loss: 0.8104 - val_acc: 0.7913\n",
            "Epoch 26/40\n",
            "400/400 [==============================] - 63s 158ms/step - loss: 0.3183 - acc: 0.8890 - val_loss: 0.7037 - val_acc: 0.8006\n",
            "Epoch 27/40\n",
            "400/400 [==============================] - 63s 158ms/step - loss: 0.2957 - acc: 0.8965 - val_loss: 0.6773 - val_acc: 0.8173\n",
            "Epoch 28/40\n",
            "400/400 [==============================] - 63s 158ms/step - loss: 0.2850 - acc: 0.9002 - val_loss: 0.7185 - val_acc: 0.8201\n",
            "Epoch 29/40\n",
            "400/400 [==============================] - 63s 158ms/step - loss: 0.2743 - acc: 0.9052 - val_loss: 0.9065 - val_acc: 0.7843\n",
            "Epoch 30/40\n",
            "400/400 [==============================] - 63s 158ms/step - loss: 0.2628 - acc: 0.9109 - val_loss: 0.8136 - val_acc: 0.8166\n",
            "Epoch 31/40\n",
            "400/400 [==============================] - 63s 158ms/step - loss: 0.2497 - acc: 0.9150 - val_loss: 0.7633 - val_acc: 0.8089\n",
            "Epoch 32/40\n",
            "400/400 [==============================] - 63s 158ms/step - loss: 0.2410 - acc: 0.9165 - val_loss: 0.6627 - val_acc: 0.8251\n",
            "Epoch 33/40\n",
            "400/400 [==============================] - 63s 158ms/step - loss: 0.2314 - acc: 0.9202 - val_loss: 0.7053 - val_acc: 0.8309\n",
            "Epoch 34/40\n",
            "400/400 [==============================] - 63s 158ms/step - loss: 0.2218 - acc: 0.9237 - val_loss: 0.6437 - val_acc: 0.8396\n",
            "Epoch 35/40\n",
            "400/400 [==============================] - 63s 158ms/step - loss: 0.2140 - acc: 0.9268 - val_loss: 0.7930 - val_acc: 0.8226\n",
            "Epoch 36/40\n",
            "400/400 [==============================] - 63s 158ms/step - loss: 0.2042 - acc: 0.9305 - val_loss: 0.7405 - val_acc: 0.8234\n",
            "Epoch 37/40\n",
            "400/400 [==============================] - 63s 158ms/step - loss: 0.1931 - acc: 0.9339 - val_loss: 0.6646 - val_acc: 0.8403\n",
            "Epoch 38/40\n",
            "400/400 [==============================] - 63s 158ms/step - loss: 0.1912 - acc: 0.9347 - val_loss: 0.6478 - val_acc: 0.8391\n",
            "Epoch 39/40\n",
            "400/400 [==============================] - 63s 158ms/step - loss: 0.1851 - acc: 0.9391 - val_loss: 0.7422 - val_acc: 0.8314\n",
            "Epoch 40/40\n",
            "400/400 [==============================] - 63s 158ms/step - loss: 0.1797 - acc: 0.9388 - val_loss: 0.6868 - val_acc: 0.8400\n"
          ],
          "name": "stdout"
        }
      ]
    },
    {
      "metadata": {
        "id": "9uR3OLjsfaPm",
        "colab_type": "code",
        "colab": {
          "base_uri": "https://localhost:8080/",
          "height": 52
        },
        "outputId": "4c2dbaf6-c2ee-4e06-c59c-16187f6176dc"
      },
      "cell_type": "code",
      "source": [
        "score = model.evaluate(x_test, y_test)\n",
        "print('Testing Accuracy: ',score[1]*100)"
      ],
      "execution_count": 12,
      "outputs": [
        {
          "output_type": "stream",
          "text": [
            "10000/10000 [==============================] - 7s 746us/step\n",
            "Testing Accuracy:  83.48\n"
          ],
          "name": "stdout"
        }
      ]
    },
    {
      "metadata": {
        "id": "TlBMCBQVfsnc",
        "colab_type": "code",
        "colab": {}
      },
      "cell_type": "code",
      "source": [
        "import matplotlib.pyplot as plt"
      ],
      "execution_count": 0,
      "outputs": []
    },
    {
      "metadata": {
        "id": "MU_jfhK0hRIS",
        "colab_type": "code",
        "colab": {
          "base_uri": "https://localhost:8080/",
          "height": 376
        },
        "outputId": "bd9e2537-6402-4116-afd6-d90adb94db70"
      },
      "cell_type": "code",
      "source": [
        "plt.plot(trained_model.history['acc'])\n",
        "plt.plot(trained_model.history['val_acc'])\n",
        "plt.title('model accuracy')\n",
        "plt.ylabel('accuracy')\n",
        "plt.xlabel('epoch')\n",
        "plt.legend(['train', 'test'], loc='upper left')\n",
        "plt.show()"
      ],
      "execution_count": 14,
      "outputs": [
        {
          "output_type": "display_data",
          "data": {
            "image/png": "[encoded data removed]",
            "text/plain": [
              "<matplotlib.figure.Figure at 0x7fe120c3f358>"
            ]
          },
          "metadata": {
            "tags": []
          }
        }
      ]
    },
    {
      "metadata": {
        "id": "DBslmg84hc6l",
        "colab_type": "code",
        "colab": {
          "base_uri": "https://localhost:8080/",
          "height": 376
        },
        "outputId": "1794e17c-12d1-47f5-f6db-356c1221c53a"
      },
      "cell_type": "code",
      "source": [
        "plt.plot(trained_model.history['loss'])\n",
        "plt.plot(trained_model.history['val_loss'])\n",
        "plt.title('model loss')\n",
        "plt.ylabel('loss')\n",
        "plt.xlabel('epoch')\n",
        "plt.legend(['train', 'test'], loc='upper left')\n",
        "plt.show()"
      ],
      "execution_count": 15,
      "outputs": [
        {
          "output_type": "display_data",
          "data": {
            "image/png": "[encoded data removed]",
            "text/plain": [
              "<matplotlib.figure.Figure at 0x7fe120c07748>"
            ]
          },
          "metadata": {
            "tags": []
          }
        }
      ]
    }
  ]
}